{
 "metadata": {
  "language_info": {
   "codemirror_mode": {
    "name": "ipython",
    "version": 3
   },
   "file_extension": ".py",
   "mimetype": "text/x-python",
   "name": "python",
   "nbconvert_exporter": "python",
   "pygments_lexer": "ipython3",
   "version": "3.9.3"
  },
  "orig_nbformat": 2,
  "kernelspec": {
   "name": "python393jvsc74a57bd07b908aa2b369ed6e3356356f23f21117cbbe6ba9aa45ce74fb9b4a64475f1d78",
   "display_name": "Python 3.9.3 64-bit ('.venv')"
  },
  "metadata": {
   "interpreter": {
    "hash": "f9cde1987cfdd0b01e26bb1118102783e467b081cca67270dfd4a2e52aa89f17"
   }
  }
 },
 "nbformat": 4,
 "nbformat_minor": 2,
 "cells": [
  {
   "cell_type": "markdown",
   "metadata": {},
   "source": [
    "Гмурман. Задачник."
   ]
  },
  {
   "cell_type": "markdown",
   "metadata": {},
   "source": [
    "# Глава 1\n",
    "## Введение. Базовые формулы.\n",
    "\n",
    "Для начала пара формул из комбинаторики с наглядным пониманием.\n",
    "\n",
    "__Размещением__ называется упорядоченный набор из $k$ различных элементов некоторого множества мощностью $n$  \n",
    "Обозначается $$A^{k}_{n} = \\frac{n!}{(n-k)!}$$\n",
    "Это количество способов упорядоченно переставить несколько объектов, например, у нас есть два кубика, подбросим их. Далее представлена матрица всех возможных комбинаций чисел, которые можем получить:\n",
    "\\begin{equation}\n",
    "M =\n",
    "    \\begin{pmatrix}\n",
    "    (1, 1) & (1, 2) & (1, 3) & (1, 4) & (1, 5) & (1, 6)\\\\\n",
    "    (2, 1) & (2, 2) & (2, 3) & (2, 4) & (2, 5) & (2, 6)\\\\\n",
    "    (3, 1) & (3, 2) & (3, 3) & (3, 4) & (3, 5) & (3, 6)\\\\\n",
    "    (4, 1) & (4, 2) & (4, 3) & (4, 4) & (4, 5) & (4, 6)\\\\\n",
    "    (5, 1) & (5, 2) & (5, 3) & (5, 4) & (5, 5) & (5, 6)\\\\\n",
    "    (6, 1) & (6, 2) & (6, 3) & (6, 4) & (6, 5) & (6, 6)\n",
    "    \\end{pmatrix}\n",
    "\\end{equation}\n",
    "\n",
    "Теперь возьмем и посчитаем количество размещений  по 2 элемента из 6, так как всего 6 возможных чисел на кубике:\n",
    "$$A^{2}_{6} = \\frac{6!}{(6-2)!} = 30$$\n",
    "Так какие же 30 вариантов можем получить из всей матрицы? Все просто, берем матрицу комбинаций и убираем диагональ, так как на диагонали лежат пары повторяющихся элементов $(1, 1);\\ (2, 2)...$\n",
    "\\begin{equation}\n",
    "A(M) =\n",
    "    \\begin{pmatrix}\n",
    "    ... & (1, 2) & (1, 3) & (1, 4) & (1, 5) & (1, 6)\\\\\n",
    "    (2, 1) & ... & (2, 3) & (2, 4) & (2, 5) & (2, 6)\\\\\n",
    "    (3, 1) & (3, 2) & ... & (3, 4) & (3, 5) & (3, 6)\\\\\n",
    "    (4, 1) & (4, 2) & (4, 3) & ... & (4, 5) & (4, 6)\\\\\n",
    "    (5, 1) & (5, 2) & (5, 3) & (5, 4) & ... & (5, 6)\\\\\n",
    "    (6, 1) & (6, 2) & (6, 3) & (6, 4) & (6, 5) & ...\n",
    "    \\end{pmatrix}\n",
    "\\end{equation}\n",
    "\n",
    "В размещении очень важен порядок элементов, то есть пары элементов $(1, 2) \\neq (2, 1)$ при подсчете, поэтому если мы посчитаем количество не пустых элементов матрицы $A(M)$ = 30"
   ]
  },
  {
   "cell_type": "markdown",
   "metadata": {},
   "source": [
    "Количество __перестановок__ или же количество размещений из $n$ по $n$:\n",
    "$P(n) = n!$  \n",
    "То есть, если у нас есть 3 каких-либо объекта, то их можно переставить 6 различными способами.\n",
    "\n"
   ]
  },
  {
   "cell_type": "markdown",
   "metadata": {},
   "source": [
    "__Сочетанием__ называется набор из элементов некоторого множества мощностью $n$ по $k$.\n",
    "$$ C^{k}_{n} = \\frac{n!}{k!(n-k)!}$$\n",
    "В отличии от размещения порядок элементов не важен.\n",
    "то есть набор $(1, 2) = (2, 1)$\n",
    "Посчитаем количество сочетаний для двух подброшеных кубиков.\n",
    "$$C^{2}_{6} = \\frac{6!}{2!(6-2)!} = 15$$\n",
    "Далее представим все возможные сочетания:\n",
    "\\begin{equation}\n",
    "C(M) =\n",
    "    \\begin{pmatrix}\n",
    "    ... & ... & ... & ... & ... & ...\\\\\n",
    "    (2, 1) & ... & .... & ... & ... & ...\\\\\n",
    "    (3, 1) & (3, 2) & ... & ... & ... & ...\\\\\n",
    "    (4, 1) & (4, 2) & (4, 3) & ... & ... & ...\\\\\n",
    "    (5, 1) & (5, 2) & (5, 3) & (5, 4) & ... & ...\\\\\n",
    "    (6, 1) & (6, 2) & (6, 3) & (6, 4) & (6, 5) & ...\n",
    "    \\end{pmatrix}\n",
    "\\end{equation}"
   ]
  },
  {
   "cell_type": "code",
   "execution_count": 1,
   "metadata": {},
   "outputs": [],
   "source": [
    "from math import factorial\n",
    "\n",
    "# Количество размещений\n",
    "def permutation(k: int, n: int) -> float:\n",
    "    return factorial(n) / factorial(n-k)\n",
    "\n",
    "# Количество сочетаний\n",
    "def combination(k: int, n: int) -> float:\n",
    "    return factorial(n) / factorial(k) / factorial(n-k)\n",
    "\n",
    "def probability(m: int, n: int) -> float:\n",
    "    print(f\"Количество нужных вариантов: {m}\")\n",
    "    print(f\"Количество всех вариантов: {n}\")\n",
    "    print(f\"Вероятность P = {m / n}\")\n",
    "    return m / n"
   ]
  },
  {
   "cell_type": "markdown",
   "metadata": {},
   "source": [
    "## №3  \n",
    "A"
   ]
  },
  {
   "cell_type": "code",
   "execution_count": 2,
   "metadata": {},
   "outputs": [
    {
     "output_type": "execute_result",
     "data": {
      "text/plain": [
       "0.011111111111111112"
      ]
     },
     "metadata": {},
     "execution_count": 2
    }
   ],
   "source": [
    "# Всего двухзначных чисел\n",
    "# По закону умножения Способов выбрать число A= 9 (1, 2, 3, 4, 5, 6, 7, 8, 9); B= 10 (0, 1, 2, 3, 4, 5, 6, 7, 8, 9)\n",
    "# A * B = 90\n",
    "P = 1/90\n",
    "P"
   ]
  },
  {
   "cell_type": "markdown",
   "metadata": {},
   "source": [
    "Б"
   ]
  },
  {
   "cell_type": "code",
   "execution_count": 3,
   "metadata": {},
   "outputs": [
    {
     "output_type": "execute_result",
     "data": {
      "text/plain": [
       "0.012345679012345678"
      ]
     },
     "metadata": {},
     "execution_count": 3
    }
   ],
   "source": [
    "# Двузначных чисел с различными цифрами 90 - 9 = 81\n",
    "P = 1 / 81\n",
    "P"
   ]
  },
  {
   "cell_type": "markdown",
   "metadata": {},
   "source": [
    "## №5\n",
    "A"
   ]
  },
  {
   "source": [
    "m = 6\n",
    "n = 36\n",
    "P = m/n\n",
    "P"
   ],
   "cell_type": "code",
   "metadata": {},
   "execution_count": 4,
   "outputs": [
    {
     "output_type": "execute_result",
     "data": {
      "text/plain": [
       "0.16666666666666666"
      ]
     },
     "metadata": {},
     "execution_count": 4
    }
   ]
  },
  {
   "source": [
    "Б"
   ],
   "cell_type": "markdown",
   "metadata": {}
  },
  {
   "cell_type": "code",
   "execution_count": 5,
   "metadata": {},
   "outputs": [
    {
     "output_type": "execute_result",
     "data": {
      "text/plain": [
       "0.05555555555555555"
      ]
     },
     "metadata": {},
     "execution_count": 5
    }
   ],
   "source": [
    "# пары  (2, 6) = (6, 2) порядок не важен, разность берется по модулю\n",
    "m = 2\n",
    "n = 36\n",
    "P = m / n\n",
    "P"
   ]
  },
  {
   "source": [
    "Г"
   ],
   "cell_type": "markdown",
   "metadata": {}
  },
  {
   "cell_type": "code",
   "execution_count": 6,
   "metadata": {},
   "outputs": [
    {
     "output_type": "execute_result",
     "data": {
      "text/plain": [
       "0.05555555555555555"
      ]
     },
     "metadata": {},
     "execution_count": 6
    }
   ],
   "source": [
    "m = 2\n",
    "n = 36\n",
    "P = m / n\n",
    "P"
   ]
  },
  {
   "source": [
    "## №6\n",
    "А"
   ],
   "cell_type": "markdown",
   "metadata": {}
  },
  {
   "source": [
    "Ребро куба равна 10 т.к. $\\sqrt[3]{1000} = 10$. но стоит помнить, что кубик имеет 6 граней, 8 вершин и 12 ребер"
   ],
   "cell_type": "markdown",
   "metadata": {}
  },
  {
   "cell_type": "code",
   "execution_count": 7,
   "metadata": {},
   "outputs": [],
   "source": [
    "n = 1000 # Всего кубиков"
   ]
  },
  {
   "cell_type": "code",
   "execution_count": 8,
   "metadata": {
    "tags": []
   },
   "outputs": [
    {
     "output_type": "stream",
     "name": "stdout",
     "text": [
      "Количество нужных вариантов: 384\nКоличество всех вариантов: 1000\nВероятность P = 0.384\n"
     ]
    },
    {
     "output_type": "execute_result",
     "data": {
      "text/plain": [
       "0.384"
      ]
     },
     "metadata": {},
     "execution_count": 8
    }
   ],
   "source": [
    "m = ((10 * 10) - 10 - 10 - 8 - 8) * 6\n",
    "probability(m, n)"
   ]
  },
  {
   "source": [
    "Б"
   ],
   "cell_type": "markdown",
   "metadata": {}
  },
  {
   "cell_type": "code",
   "execution_count": 9,
   "metadata": {
    "tags": []
   },
   "outputs": [
    {
     "output_type": "stream",
     "name": "stdout",
     "text": [
      "Количество нужных вариантов: 96\nКоличество всех вариантов: 1000\nВероятность P = 0.096\n"
     ]
    },
    {
     "output_type": "execute_result",
     "data": {
      "text/plain": [
       "0.096"
      ]
     },
     "metadata": {},
     "execution_count": 9
    }
   ],
   "source": [
    "m = 8 * 12\n",
    "probability(m, n)"
   ]
  },
  {
   "source": [
    "В"
   ],
   "cell_type": "markdown",
   "metadata": {}
  },
  {
   "source": [
    "m = 8\n",
    "probability(m, n)"
   ],
   "cell_type": "code",
   "metadata": {
    "tags": []
   },
   "execution_count": 10,
   "outputs": [
    {
     "output_type": "stream",
     "name": "stdout",
     "text": [
      "Количество нужных вариантов: 8\nКоличество всех вариантов: 1000\nВероятность P = 0.008\n"
     ]
    },
    {
     "output_type": "execute_result",
     "data": {
      "text/plain": [
       "0.008"
      ]
     },
     "metadata": {},
     "execution_count": 10
    }
   ]
  },
  {
   "source": [
    "## №7"
   ],
   "cell_type": "markdown",
   "metadata": {}
  },
  {
   "source": [
    "Возможные комбинации: (О, Р); (Р, О); (О, О); (Р, Р);"
   ],
   "cell_type": "markdown",
   "metadata": {}
  },
  {
   "cell_type": "code",
   "execution_count": 11,
   "metadata": {
    "tags": []
   },
   "outputs": [
    {
     "output_type": "stream",
     "name": "stdout",
     "text": [
      "Количество нужных вариантов: 3\nКоличество всех вариантов: 4\nВероятность P = 0.75\n"
     ]
    },
    {
     "output_type": "execute_result",
     "data": {
      "text/plain": [
       "0.75"
      ]
     },
     "metadata": {},
     "execution_count": 11
    }
   ],
   "source": [
    "m = 3\n",
    "n = 4\n",
    "probability(m, n)"
   ]
  },
  {
   "source": [
    "## №8\n",
    "всего перестановок кубиков $P(6) = 6!$"
   ],
   "cell_type": "markdown",
   "metadata": {}
  },
  {
   "cell_type": "code",
   "execution_count": 12,
   "metadata": {
    "tags": []
   },
   "outputs": [
    {
     "output_type": "stream",
     "name": "stdout",
     "text": [
      "Количество нужных вариантов: 1\nКоличество всех вариантов: 720\nВероятность P = 0.001388888888888889\n"
     ]
    },
    {
     "output_type": "execute_result",
     "data": {
      "text/plain": [
       "0.001388888888888889"
      ]
     },
     "metadata": {},
     "execution_count": 12
    }
   ],
   "source": [
    "n = factorial(6)\n",
    "m = 1\n",
    "probability(m, n)"
   ]
  },
  {
   "source": [
    "## №10"
   ],
   "cell_type": "markdown",
   "metadata": {}
  },
  {
   "cell_type": "code",
   "execution_count": 13,
   "metadata": {
    "tags": []
   },
   "outputs": [
    {
     "output_type": "stream",
     "name": "stdout",
     "text": [
      "Количество нужных вариантов: 1\nКоличество всех вариантов: 190.0\nВероятность P = 0.005263157894736842\n"
     ]
    },
    {
     "output_type": "execute_result",
     "data": {
      "text/plain": [
       "0.005263157894736842"
      ]
     },
     "metadata": {},
     "execution_count": 13
    }
   ],
   "source": [
    "n = combination(2, 20)\n",
    "m = 1\n",
    "probability(m , n)"
   ]
  },
  {
   "source": [
    "## №12"
   ],
   "cell_type": "markdown",
   "metadata": {}
  },
  {
   "cell_type": "code",
   "execution_count": 14,
   "metadata": {
    "tags": []
   },
   "outputs": [
    {
     "output_type": "stream",
     "name": "stdout",
     "text": [
      "Количество нужных вариантов: 120.0\nКоличество всех вариантов: 455.0\nВероятность P = 0.26373626373626374\n"
     ]
    },
    {
     "output_type": "execute_result",
     "data": {
      "text/plain": [
       "0.26373626373626374"
      ]
     },
     "metadata": {},
     "execution_count": 14
    }
   ],
   "source": [
    "m = combination(3, 10)\n",
    "n = combination(3, 15)\n",
    "probability(m, n)"
   ]
  },
  {
   "source": [
    "## № 13"
   ],
   "cell_type": "markdown",
   "metadata": {}
  },
  {
   "cell_type": "code",
   "execution_count": 15,
   "metadata": {},
   "outputs": [
    {
     "output_type": "execute_result",
     "data": {
      "text/plain": [
       "1731030945643.9998"
      ]
     },
     "metadata": {},
     "execution_count": 15
    }
   ],
   "source": [
    "m = combination(9, 99)\n",
    "m"
   ]
  },
  {
   "cell_type": "code",
   "execution_count": 16,
   "metadata": {},
   "outputs": [
    {
     "output_type": "execute_result",
     "data": {
      "text/plain": [
       "17310309456440.0"
      ]
     },
     "metadata": {},
     "execution_count": 16
    }
   ],
   "source": [
    "n = combination(10, 100)\n",
    "n"
   ]
  },
  {
   "cell_type": "code",
   "execution_count": 17,
   "metadata": {},
   "outputs": [
    {
     "output_type": "execute_result",
     "data": {
      "text/plain": [
       "0.09999999999999999"
      ]
     },
     "metadata": {},
     "execution_count": 17
    }
   ],
   "source": [
    "P = m / n\n",
    "P"
   ]
  },
  {
   "source": [
    "## №14\n",
    "А"
   ],
   "cell_type": "markdown",
   "metadata": {}
  },
  {
   "cell_type": "code",
   "execution_count": 18,
   "metadata": {
    "tags": []
   },
   "outputs": [
    {
     "output_type": "stream",
     "name": "stdout",
     "text": [
      "Количество нужных вариантов: 2555190.0\nКоличество всех вариантов: 3921225.0\nВероятность P = 0.6516305491268672\n"
     ]
    },
    {
     "output_type": "execute_result",
     "data": {
      "text/plain": [
       "0.6516305491268672"
      ]
     },
     "metadata": {},
     "execution_count": 18
    }
   ],
   "source": [
    "m = combination(4, 90)\n",
    "n = combination(4, 100)\n",
    "probability(m , n)"
   ]
  },
  {
   "source": [
    "Б"
   ],
   "cell_type": "markdown",
   "metadata": {}
  },
  {
   "cell_type": "code",
   "execution_count": 19,
   "metadata": {
    "tags": []
   },
   "outputs": [
    {
     "output_type": "stream",
     "name": "stdout",
     "text": [
      "Количество нужных вариантов: 210.0\nКоличество всех вариантов: 3921225.0\nВероятность P = 5.3554692729950465e-05\n"
     ]
    },
    {
     "output_type": "execute_result",
     "data": {
      "text/plain": [
       "5.3554692729950465e-05"
      ]
     },
     "metadata": {},
     "execution_count": 19
    }
   ],
   "source": [
    "m = combination(4, 10)\n",
    "n = combination(4, 100)\n",
    "probability(m, n)"
   ]
  },
  {
   "source": [
    "## №15"
   ],
   "cell_type": "markdown",
   "metadata": {}
  },
  {
   "cell_type": "code",
   "execution_count": 20,
   "metadata": {
    "tags": []
   },
   "outputs": [
    {
     "output_type": "stream",
     "name": "stdout",
     "text": [
      "Количество нужных вариантов: 3.0\nКоличество всех вариантов: 10.0\nВероятность P = 0.3\n"
     ]
    },
    {
     "output_type": "execute_result",
     "data": {
      "text/plain": [
       "0.3"
      ]
     },
     "metadata": {},
     "execution_count": 20
    }
   ],
   "source": [
    "m = combination(2, 3)\n",
    "n = combination(2, 5)\n",
    "probability(m, n)"
   ]
  },
  {
   "source": [
    "## №16"
   ],
   "cell_type": "markdown",
   "metadata": {}
  },
  {
   "cell_type": "code",
   "execution_count": 21,
   "metadata": {
    "tags": []
   },
   "outputs": [
    {
     "output_type": "stream",
     "name": "stdout",
     "text": [
      "Количество нужных вариантов: 1\nКоличество всех вариантов: 720.0\nВероятность P = 0.001388888888888889\n"
     ]
    },
    {
     "output_type": "execute_result",
     "data": {
      "text/plain": [
       "0.001388888888888889"
      ]
     },
     "metadata": {},
     "execution_count": 21
    }
   ],
   "source": [
    "m = 1\n",
    "n = permutation(3, 10) # Используем размещения, так как важен порядок цифр\n",
    "probability(m, n)"
   ]
  },
  {
   "source": [
    "## №17"
   ],
   "cell_type": "markdown",
   "metadata": {}
  },
  {
   "source": [
    "Наглядное решение такого типа задач\n",
    "\n",
    "Пусть у нас есть N = 5 деталей в коробоке, n = 3 - количество деталей в выборке, k = 2 - количество стандартных деталей среди n, m = 3 - всего стандартных деталей. Нам нужно получить вероятность, что выбрав 3 детали среди них будут ровно 2 стандартные.  \n",
    "\n",
    "Множество всех элементов $E = (s1, s2, s3, n1, n2)$  \n",
    "Теперь распишем матрицу всех комбинаций (сочетаний) по n элементов из N  \n",
    "\\begin{equation}\n",
    "M =\n",
    "  \\begin{pmatrix}\n",
    "  (s1, s2, s3) & (s1, s2, n1) & (s1, s2, n2) & (s1, s3, n1) & (s1, s3, n2) & (s1, n1, n2)\\\\\n",
    "  (s2, s3, n1) & (s2, s3, n2) & (s2, n1, n2)\\\\\n",
    "  (s3, n1, n2)\n",
    "  \\end{pmatrix}\n",
    "\\end{equation}\n",
    "В итоге мы имеем $C^{3}_{5} = 10$ вариантов (порядок не важен).  \n",
    "Посчитаем количество нужных нам вариантов. Всего способов выбрать две стандартные детали из 3\n",
    "$S = [(s1, s2), (s1, s3), (s2, s3)]$ и способов выбрать нестандартные детали $N = [n1, n2]$\n",
    "Соответственно нужные нам варианты:\n",
    "$$S \\times N = [(s1, s2, n1), (s1, s2, n2), (s1, s3, n1), (s1, s3, n2), (s2, s3, n1), (s2, s3, n2)]$$\n",
    "Их количество: $\\left| S \\times N \\right| = C^{2}_{3} * C^{1}_{2} = 6$\n",
    "Соответственно вероятность равна $P = \\frac{C^{2}_{3} * C^{1}_{2}}{C^{3}_{5}} = 0.6$"
   ],
   "cell_type": "markdown",
   "metadata": {}
  },
  {
   "source": [
    " ## №18\n"
   ],
   "cell_type": "markdown",
   "metadata": {}
  },
  {
   "cell_type": "code",
   "execution_count": 22,
   "metadata": {},
   "outputs": [
    {
     "output_type": "stream",
     "name": "stdout",
     "text": [
      "Количество нужных вариантов: 60.0\nКоличество всех вариантов: 120.0\nВероятность P = 0.5\n"
     ]
    },
    {
     "output_type": "execute_result",
     "data": {
      "text/plain": [
       "0.5"
      ]
     },
     "metadata": {},
     "execution_count": 22
    }
   ],
   "source": [
    "n = combination(7, 10)\n",
    "m = combination(3, 4) * combination(4, 6)\n",
    "probability(m, n)"
   ]
  },
  {
   "source": [
    "## №19"
   ],
   "cell_type": "markdown",
   "metadata": {}
  },
  {
   "cell_type": "code",
   "execution_count": 23,
   "metadata": {},
   "outputs": [
    {
     "output_type": "stream",
     "name": "stdout",
     "text": [
      "Количество нужных вариантов: 1200.0\nКоличество всех вариантов: 3003.0\nВероятность P = 0.3996003996003996\n"
     ]
    },
    {
     "output_type": "execute_result",
     "data": {
      "text/plain": [
       "0.3996003996003996"
      ]
     },
     "metadata": {},
     "execution_count": 23
    }
   ],
   "source": [
    "n = combination(5, 15)\n",
    "m = combination(3, 10) * combination(2, 5)\n",
    "probability(m, n)"
   ]
  },
  {
   "source": [
    "## №20"
   ],
   "cell_type": "markdown",
   "metadata": {}
  },
  {
   "cell_type": "code",
   "execution_count": 24,
   "metadata": {},
   "outputs": [
    {
     "output_type": "stream",
     "name": "stdout",
     "text": [
      "Количество нужных вариантов: 56.0\nКоличество всех вариантов: 220.0\nВероятность P = 0.2545454545454545\n"
     ]
    },
    {
     "output_type": "execute_result",
     "data": {
      "text/plain": [
       "0.2545454545454545"
      ]
     },
     "metadata": {},
     "execution_count": 24
    }
   ],
   "source": [
    "n = combination(9, 12)\n",
    "m = combination(5, 8) * combination(4, 4)\n",
    "probability(m, n)"
   ]
  },
  {
   "source": [
    "## №21"
   ],
   "cell_type": "markdown",
   "metadata": {}
  },
  {
   "source": [
    "A"
   ],
   "cell_type": "markdown",
   "metadata": {}
  },
  {
   "cell_type": "code",
   "execution_count": 25,
   "metadata": {},
   "outputs": [
    {
     "output_type": "stream",
     "name": "stdout",
     "text": [
      "Количество нужных вариантов: 6\nКоличество всех вариантов: 10.0\nВероятность P = 0.6\n"
     ]
    },
    {
     "output_type": "execute_result",
     "data": {
      "text/plain": [
       "0.6"
      ]
     },
     "metadata": {},
     "execution_count": 25
    }
   ],
   "source": [
    "n = combination(2, 5)\n",
    "m = 3 * 2\n",
    "probability(m, n)"
   ]
  },
  {
   "source": [
    "Б"
   ],
   "cell_type": "markdown",
   "metadata": {}
  },
  {
   "cell_type": "code",
   "execution_count": 26,
   "metadata": {},
   "outputs": [
    {
     "output_type": "stream",
     "name": "stdout",
     "text": [
      "Количество нужных вариантов: 3.0\nКоличество всех вариантов: 10.0\nВероятность P = 0.3\n"
     ]
    },
    {
     "output_type": "execute_result",
     "data": {
      "text/plain": [
       "0.3"
      ]
     },
     "metadata": {},
     "execution_count": 26
    }
   ],
   "source": [
    "m = combination(2, 3)\n",
    "probability(m, n)"
   ]
  },
  {
   "source": [
    "В"
   ],
   "cell_type": "markdown",
   "metadata": {}
  },
  {
   "cell_type": "code",
   "execution_count": 27,
   "metadata": {},
   "outputs": [
    {
     "output_type": "stream",
     "name": "stdout",
     "text": [
      "Количество нужных вариантов: 9.0\nКоличество всех вариантов: 10.0\nВероятность P = 0.9\n"
     ]
    },
    {
     "output_type": "execute_result",
     "data": {
      "text/plain": [
       "0.9"
      ]
     },
     "metadata": {},
     "execution_count": 27
    }
   ],
   "source": [
    "m = combination(1, 3) * combination(1, 2) + combination(2, 3) # условие или, но на самом деле проще суммируем количество комбинаций)\n",
    "probability(m, n)"
   ]
  },
  {
   "source": [
    "## №22\n",
    "Стоит учитывать, что цифры на каждом из дисков не различные. а одинаковые:\n",
    "M = (1, 2, 3, 4, 5)\n",
    "Соответственно всего способов $$ \\overline{A} = n = 5^4$$"
   ],
   "cell_type": "markdown",
   "metadata": {}
  },
  {
   "cell_type": "code",
   "execution_count": 28,
   "metadata": {},
   "outputs": [
    {
     "output_type": "stream",
     "name": "stdout",
     "text": [
      "Количество нужных вариантов: 1\nКоличество всех вариантов: 625\nВероятность P = 0.0016\n"
     ]
    },
    {
     "output_type": "execute_result",
     "data": {
      "text/plain": [
       "0.0016"
      ]
     },
     "metadata": {},
     "execution_count": 28
    }
   ],
   "source": [
    "n = 5 ** 4\n",
    "m = 1\n",
    "probability(m, n)"
   ]
  },
  {
   "source": [
    "## №24"
   ],
   "cell_type": "markdown",
   "metadata": {}
  },
  {
   "cell_type": "code",
   "execution_count": 29,
   "metadata": {},
   "outputs": [
    {
     "output_type": "stream",
     "name": "stdout",
     "text": [
      "Количество нужных вариантов: 18\nКоличество всех вариантов: 20\nВероятность P = 0.9\n"
     ]
    },
    {
     "output_type": "execute_result",
     "data": {
      "text/plain": [
       "0.9"
      ]
     },
     "metadata": {},
     "execution_count": 29
    }
   ],
   "source": [
    "n = 20\n",
    "m = 18\n",
    "probability(m, n)"
   ]
  },
  {
   "source": [
    "## №25"
   ],
   "cell_type": "markdown",
   "metadata": {}
  },
  {
   "cell_type": "code",
   "execution_count": 30,
   "metadata": {},
   "outputs": [
    {
     "output_type": "execute_result",
     "data": {
      "text/plain": [
       "180.0"
      ]
     },
     "metadata": {},
     "execution_count": 30
    }
   ],
   "source": [
    "p = 0.9\n",
    "n = 200\n",
    "m = p * n\n",
    "m"
   ]
  },
  {
   "source": [
    "# Геометрическая вероятность\n",
    "По отрезку $$P = \\frac{|\\vec{l}|}{|\\vec{L}|}$$, где $\\vec{l}$ - нужная часть отрезка, $\\vec{L}$ - весь отрезок  \n",
    "По площади $$P = \\frac{S(g)}{S(G)}$$, где $S(g)$ - площадь нужной части g от фигуры G, $S(G)$ - площадь всей фигуры G  \n",
    "По площади $$P = \\frac{V(k)}{V(K)}$$, где $V(k)$ - объем нужной части k от фигуры K, $S(K)$ - объем всей фигуры K"
   ],
   "cell_type": "markdown",
   "metadata": {}
  },
  {
   "cell_type": "code",
   "execution_count": 31,
   "metadata": {},
   "outputs": [],
   "source": [
    "def probabilityL(m: float, n: float, t: int = 0):\n",
    "    if t == 0:\n",
    "        tt = \"Длина\"\n",
    "    elif t == 1:\n",
    "        tt = \"Площадь\"\n",
    "    else:\n",
    "        tt = \"Объем\"\n",
    "    p = m / n\n",
    "    print(tt, \"нужной части фигуры:\", m)\n",
    "    print(tt, \"всей фигуры:\", n)\n",
    "    print(\"Вероятность:\", p)\n",
    "    return p"
   ]
  },
  {
   "source": [
    "## №26"
   ],
   "cell_type": "markdown",
   "metadata": {}
  },
  {
   "cell_type": "code",
   "execution_count": 32,
   "metadata": {},
   "outputs": [
    {
     "output_type": "stream",
     "name": "stdout",
     "text": [
      "Длина нужной части фигуры: 10\nДлина всей фигуры: 20\nВероятность: 0.5\n"
     ]
    },
    {
     "output_type": "execute_result",
     "data": {
      "text/plain": [
       "0.5"
      ]
     },
     "metadata": {},
     "execution_count": 32
    }
   ],
   "source": [
    "n = 20\n",
    "m = 10\n",
    "probabilityL(10, 20)"
   ]
  },
  {
   "source": [
    "## №27"
   ],
   "cell_type": "markdown",
   "metadata": {}
  },
  {
   "source": [
    "n = L  \n",
    "m = 1/3 * L  \n",
    "P = m / n = 1/3"
   ],
   "cell_type": "markdown",
   "metadata": {}
  },
  {
   "source": [
    "## №28"
   ],
   "cell_type": "markdown",
   "metadata": {}
  },
  {
   "source": [
    "$n = \\pi * R^2$  \n",
    "$m = \\pi * r^2$  \n",
    "$P = \\frac{m}{n} = \\frac{r^2}{R^2}$"
   ],
   "cell_type": "markdown",
   "metadata": {}
  },
  {
   "source": [
    "## №29"
   ],
   "cell_type": "markdown",
   "metadata": {}
  },
  {
   "source": [
    "Решение заключается в том, что мы ищем геометрическую вероятность попадания ТОЧКИ!!!  \n",
    "Допустим, есть монетка и нужно бросить так, чтобы она не пересекла две параллельные линии, соотвественно нам нужно найти длину того отрезка, на которую должен попасть центр монетки (точка), чтобы не пересечь черту  \n",
    "В данной задаче принимается радиус монетки за $r$, расстояние между прямыми равно $2a$, $r < a$  \n",
    "соотвественно отрезок, на который должен упасть ЦЕНТР МОНЕТКИ принимает длину зеленой линии:  \n",
    "$$l = 2a - 2r$$\n",
    "Тогда весь отрезок: $$L = 2a$$\n",
    "вероятность бросания монетки без пересечения прямых:\n",
    "$$P = \\frac{l}{L} = \\frac{2a - 2r}{2a} = 1 - \\frac{r}{a}$$\n",
    "![Решение](img/29.png)"
   ],
   "cell_type": "markdown",
   "metadata": {}
  },
  {
   "source": [
    "## №30"
   ],
   "cell_type": "markdown",
   "metadata": {}
  },
  {
   "source": [
    "Этот номер делается аналогично предыдущему с дополнением по площади\n",
    "$$P = \\frac{s}{S} = \\frac{(a - 2r)^2}{a^2}$$"
   ],
   "cell_type": "markdown",
   "metadata": {}
  },
  {
   "source": [
    "## №31"
   ],
   "cell_type": "markdown",
   "metadata": {}
  },
  {
   "source": [
    "Ответ, аналогичено задаче 29:  \n",
    " $$P = 1 -  \\frac{r}{a} = 1 - \\frac{1}{3} = \\frac{2}{3}$$"
   ],
   "cell_type": "markdown",
   "metadata": {}
  },
  {
   "source": [
    "## №32"
   ],
   "cell_type": "markdown",
   "metadata": {}
  },
  {
   "source": [
    "Ответ, считаем площать кольца и делим на площадь круга\n",
    "$$P = \\frac{S-s}{S} = \\frac{10^2-5^2}{10^2} = 0.75$$"
   ],
   "cell_type": "markdown",
   "metadata": {}
  },
  {
   "source": [
    "## №33"
   ],
   "cell_type": "markdown",
   "metadata": {}
  },
  {
   "source": [
    "a) $$S = \\pi * R^2$$  \n",
    "$$a = \\frac{R}{\\sqrt{2}}$$\n",
    "$$s = a^2 = 2R^2$$\n",
    "$$P = \\frac{s}{S} = \\frac{2}{\\pi}$$"
   ],
   "cell_type": "markdown",
   "metadata": {}
  },
  {
   "source": [
    "Б) $$S = \\pi * R^2$$  \n",
    "$$a = \\frac{R}{\\sqrt{3}}$$\n",
    "$$s = \\frac{abc}{4R} = R^2\\frac{3\\sqrt{3}}{4}$$\n",
    "$$P = \\frac{s}{S} = R^2\\frac{3\\sqrt{3}}{4\\pi}$$"
   ],
   "cell_type": "markdown",
   "metadata": {}
  },
  {
   "source": [
    "## №34"
   ],
   "cell_type": "markdown",
   "metadata": {}
  },
  {
   "source": [
    "Так количество секторов четное, то ровно половина из них будет белой, другая половина черной\n",
    "P = 0.5"
   ],
   "cell_type": "markdown",
   "metadata": {}
  },
  {
   "source": [
    "## №36"
   ],
   "cell_type": "markdown",
   "metadata": {}
  },
  {
   "source": [
    "Ситуации может быть две, когда точка $B(x)$ поставлена ближе к точке $O(0)$, чем точка $C(y)$, либо наоборот, что порождает две ситуции, соответственно две системы уравнений\n",
    "\\begin{cases} \n",
    "   y > x\\\\\n",
    "   y - x < x => y < 2x\n",
    "\\end{cases}\n",
    "\\begin{cases} \n",
    "   x > y\\\\\n",
    "   x - y < y => x < 2y\n",
    "\\end{cases}\n",
    "По этим условиям $S = 2S_{OMA}$, $s = 2S_{ONA}$\n",
    "$$S_{OMA} = 0.5L^2$$\n",
    "$$S_{ONA} = S_{OMA} - S_{OMN} = 0.5L^2 - 0.25L^2 = 0.25L^2$$\n",
    "$$ P = \\frac{s}{S} = \\frac{2S_{ONA}}{2S_{OMA}} = \\frac{0.5L^2}{L^2} = \\frac{1}{2}$$\n",
    "![Картиночка](img/36.png)"
   ],
   "cell_type": "markdown",
   "metadata": {}
  },
  {
   "source": [
    "## №37\n",
    "\\begin{cases} \n",
    "   y \\geq x\\\\\n",
    "   y - x < \\frac{L}{2} => y < x + \\frac{L}{2}\n",
    "\\end{cases}\n",
    "$$S = S_{OMA} = \\frac{1}{2}L^2$$\n",
    "$$s=S_{OMA}-S_{BMN} = \\frac{1}{2}L^2 - \\frac{1}{8}L^2 = \\frac{3}{8}L^2$$\n",
    "$$P = \\frac{s}{S} = \\frac{\\frac{3}{8}L^2}{\\frac{1}{2}L^2} = \\frac{6}{8} = 0.75$$\n",
    "![Картиночка2](img/37.png)"
   ],
   "cell_type": "markdown",
   "metadata": {}
  },
  {
   "source": [
    "## №38"
   ],
   "cell_type": "markdown",
   "metadata": {}
  },
  {
   "source": [
    "P = 0.75  \n",
    "![38](img/38.png)"
   ],
   "cell_type": "markdown",
   "metadata": {}
  },
  {
   "source": [
    "## №42\n",
    "$$L = 1час$$\n",
    "\\begin{cases} \n",
    "  0 <= y <= L\\\\\n",
    "  0 <= x <= L\\\\\n",
    "  y - x < \\frac{L}{4}, y < x\\\\\n",
    "  x-y < \\frac{L}{4}, x > y\n",
    "\\end{cases}\n",
    "$$P = \\frac{s}{S}$$\n",
    "$$S = S_{OMAK} = 2S_{OMA} = \\frac{2L^2}{2} = L^2$$\n",
    "$$s = S_{OBNASJ} = 2S_{OMA} - 2S_{BMN} = \\frac{L^2}{2} - \\frac{9L^2}{16} = \\frac{7L^2}{16}$$\n",
    "$$ P = \\frac{7}{16} $$\n",
    "![42](img/42.png)"
   ],
   "cell_type": "markdown",
   "metadata": {}
  },
  {
   "source": [
    "## №43"
   ],
   "cell_type": "markdown",
   "metadata": {}
  },
  {
   "source": [
    "\\begin{cases} \n",
    "  0 <= y <= L\\\\\n",
    "  0 <= x <= L\\\\\n",
    "  0 <= z <= L\\\\\n",
    "  x < y + z\\\\\n",
    "  y < x + z\\\\\n",
    "  z < y + x\\\\\n",
    "\\end{cases}"
   ],
   "cell_type": "markdown",
   "metadata": {}
  },
  {
   "source": [
    "## №44"
   ],
   "cell_type": "markdown",
   "metadata": {}
  },
  {
   "source": [
    "\\begin{cases} \n",
    "  0 <= y <= 2\\\\\n",
    "  0 <= x <= 2\\\\\n",
    "  y < \\frac{1}{x}\\\\\n",
    "  y < 2x\\\\\n",
    "\\end{cases}\n",
    "![44](img/44.png)  \n",
    "Согласно рисунку нам необходимо вычислить площадь фигуры под графиками, выделенной зеленым цветом\n",
    "$$S = 2 * 2 = 4$$\n",
    "$$s = \\int_{0}^{\\frac{1}{\\sqrt{2}}} 2x \\,dx + \\int_{\\frac{1}{\\sqrt{2}}}^2 \\frac{1}{x} \\,dx$$\n",
    "$$s = x^2|_{0}^{\\frac{1}{\\sqrt{2}}} + \\ln{x}|_{\\frac{1}{\\sqrt{2}}}^{2}$$\n",
    "$$s = \\frac{1}{2} + \\ln{2^{\\frac{-1}{2}}} - \\ln{2} = \\frac{1}{2} - \\frac{3\\ln{2}}{2} = \\frac{1 - 3\\ln{2}}{2}$$\n",
    "$$P = \\frac{s}{S} = \\frac{1 - 3\\ln{2}}{8}$$"
   ],
   "cell_type": "markdown",
   "metadata": {}
  },
  {
   "source": [
    "## №45\n"
   ],
   "cell_type": "markdown",
   "metadata": {}
  },
  {
   "source": [
    "\\begin{cases} \n",
    "  0 <= y <= 1\\\\\n",
    "  0 <= x <= 1\\\\\n",
    "  y > \\frac{0.09}{x}\\\\\n",
    "  y < -x + 1\\\\\n",
    "\\end{cases}\n",
    "___\n",
    "\\begin{cases}\n",
    "  yx = 0.09\\\\\n",
    "  y = -x + 1\n",
    "\\end{cases}\n",
    "$$-x^2 + x = 0.09 \\Rightarrow x^2 -x + 0.09 = 0$$\n",
    "$$x_1 = 0.9, x_2 = 0.1$$\n",
    "$$y_1 = 0.1, y_2 = 0.9$$\n",
    "___\n",
    "![45](img/45.png)  \n",
    "$$P = \\frac{s}{S}$$\n",
    "$$S = S_{OSNK} = 1$$\n",
    "$$s = S_{ML} = S_{OSK} - S_{OSMLK} =\\frac{1}{2} - \\left(\\int_0^{0.1}(-x + 1)dx + \\int_{0.9}^{1}(-x + 1)dx + \\int_{0.1}^{0.9} \\frac{0.09}{x}dx\\right)$$\n",
    "$$s =\\frac{1}{2} -  \\left(-\\frac{x^2}{2}+x|_0^{0.1} -\\frac{x^2}{2}+x|_{0.9}^{1} + 0.09\\ln{x}|_{0.1}^{0.9}\\right)$$\n",
    "$$s = \\frac{1}{2} - \\left(-\\frac{1}{200}+\\frac{1}{10} -\\frac{1}{2} + 1 + \\frac{81}{200} - \\frac{9}{10} + 0.09(\\ln{0.9}-\\ln{0.1})\\right)$$\n",
    "$$s =\\frac{1}{2} - \\left(\\frac{2}{5} - \\frac{4}{5} + \\frac{1}{2} + 0.09 \\ln{9}\\right)$$\n",
    "$$s =\\frac{1}{2} - \\left(0.09\\ln{9} + \\frac{1}{10}\\right)$$"
   ],
   "cell_type": "markdown",
   "metadata": {}
  },
  {
   "cell_type": "code",
   "execution_count": 33,
   "metadata": {},
   "outputs": [
    {
     "output_type": "stream",
     "name": "stdout",
     "text": [
      "P =  0.20224978803974025\n"
     ]
    }
   ],
   "source": [
    "from math import log\n",
    "S = 1\n",
    "s = 0.5 - (0.09 * log(9) + 0.1)\n",
    "print(\"P = \", s/S)"
   ]
  },
  {
   "source": [
    "# Глава 2\n",
    "## Основные теоремы. Теорема сложения вероятностей"
   ],
   "cell_type": "markdown",
   "metadata": {}
  },
  {
   "source": [
    "Вероятность появления несовместных событий A и B (в голове читаем ИЛИ)  \n",
    "$$P(A+B) = P(A) + P(B)$$\n",
    "Док-во:\n",
    "Пусть всего исходов N, исходов удовлетворяющих событию A - $N_A$, B - $N_B$, тогда вероятность\n",
    "$$ P(A+B) = \\frac{N_A + N_B}{N} = \\frac{N_A}{N} + \\frac{N_B}{B} = P(A) + P(B)$$"
   ],
   "cell_type": "markdown",
   "metadata": {}
  },
  {
   "source": [
    "Если несовместные события образуют полную группу событий, например, человек проходит должен пройти через одну из трех дверей, сразу через несколько не может, то сумма их вероятностей равна 1\n",
    "$$P(A_1 + A_2 + ... + A_N) = 1$$\n",
    "$$P(A_1 + A_2 + ... + A_N) = \\sum_{i=1}^{N} P(A_i) = 1$$"
   ],
   "cell_type": "markdown",
   "metadata": {}
  },
  {
   "source": [
    "### Сложение совместных событий  \n",
    "Например, нужно найти P(A+B), то есть вероятность А или B, при ВОЗМОЖНОСТИ A и B (что они могут произойти одновременно)\n",
    "$$P(A+B) = P(A) - P(B) - P(AB)$$\n",
    "Док-во:\n",
    "По теории о сложении несовместных событий:\n",
    "$$P(A+B) = P(A\\bar{B}) + P(\\bar{A}B) + P(AB)$$\n",
    "С другой стороны, вероятность события A:\n",
    "$$P(A) = P(A\\bar{B}) + P(AB)$$\n",
    "$$P(A\\bar{B}) = P(A) - P(AB)$$\n",
    "С другой стороны, вероятность события B:\n",
    "$$P(B) = P(\\bar{A}B) + P(AB)$$\n",
    "$$P(\\bar{A}B) = P(B) - P(AB)$$\n",
    "Подставляя в формулу получим:\n",
    "$$P(A+B) = P(A) - P(B) - P(AB)$$"
   ],
   "cell_type": "markdown",
   "metadata": {}
  },
  {
   "source": [
    "### Зависимые и независимые события\n",
    "Событие A является зависимым, если его вероятность зависит от произошло ли событие B  \n",
    "Событие A является независимым, если его вероятность независит от произошло ли событие B\n",
    "Условная вероятность P(A|B) уже определяется на другом пространстве элементарных исходов $\\Omega_B$\n",
    "Например, у кубика окрашены 1, 3, 6 в красный цвет\n",
    "\\begin{equation}\n",
    "A_1 = <выпадет\\ четное\\ количество\\ очков>\\\\  \n",
    "A_2 = <выпадет\\ нечетное\\ количество\\ очков>\\\\\n",
    "B = <выпадет\\ красная\\ грань>\\\\\n",
    "P(A_1) = \\frac{1}{3}\\\\\n",
    "P(A_2) = \\frac{1}{3}\\\\\n",
    "P(A_2|B) = \\frac{2}{6}\n",
    "\\end{equation}"
   ],
   "cell_type": "markdown",
   "metadata": {}
  },
  {
   "source": [
    "## №47\n"
   ],
   "cell_type": "markdown",
   "metadata": {}
  },
  {
   "cell_type": "code",
   "execution_count": 34,
   "metadata": {},
   "outputs": [
    {
     "output_type": "stream",
     "name": "stdout",
     "text": [
      "Количество нужных вариантов: 20.0\nКоличество всех вариантов: 120.0\nВероятность P = 0.16666666666666666\n"
     ]
    },
    {
     "output_type": "execute_result",
     "data": {
      "text/plain": [
       "0.8333333333333334"
      ]
     },
     "metadata": {},
     "execution_count": 34
    }
   ],
   "source": [
    "n = combination(3, 10)\n",
    "m = combination(3, 6)\n",
    "P = 1 - probability(m, n)\n",
    "P"
   ]
  },
  {
   "source": [
    "## №48\n",
    "Событие A  влечет за собой событие B:  \n",
    "То есть если происходит событие A, то произойдет и B, но событие B может произойти и само по себе\n",
    "$$B = A + \\bar{A}B$$\n",
    "События A и $\\bar{A}B$ не совместны, поэтому их сумма будет:\n",
    "$$P(B) = P(A+\\bar{A}B) = P(A) + P(\\bar{A}B)$  \n",
    "Т.к. $P(\\bar{A}B) \\geq 0$, то $P(B) \\geq P(A)$"
   ],
   "cell_type": "markdown",
   "metadata": {}
  },
  {
   "source": [
    "## №49\n",
    "\n",
    "Два независимых события $A_1, P(A_1) = p_1; A_2, P(A_2) = p_2$\n",
    "Найти вероятность появления только одного события\n",
    "\n",
    "Пусть $$B = A_1\\bar{A_2} + \\bar{A_1}A_2$$\n",
    "Тогда $$P(B) = P(A_1\\bar{A_2}) + P(\\bar{A_1}A_2)$$\n",
    "$$P(B) = p_1q_2 + q_1p_2$$\n",
    "$$P(B) = p_1(1-p_2) + p_2(1-p_1) = p_1 - p_1p_2 + p_1 - p_1p_2 = p_1 + p_2 - 2p_1p_2$$"
   ],
   "cell_type": "markdown",
   "metadata": {}
  },
  {
   "source": [
    "Обобщим формулу:\n",
    "$$P(B)= p_1q_2q_3...q_n + p_2q_1q_3...q_n + ... + p_nq_1q_2...q_{n-1} = \\sum_{i=1}^{n}\\prod_{l=1,\\ l\\neq i}^{n}p_iq_l$$"
   ],
   "cell_type": "markdown",
   "metadata": {}
  },
  {
   "cell_type": "code",
   "execution_count": 35,
   "metadata": {},
   "outputs": [],
   "source": [
    "def one_of_several(*args):\n",
    "    p = []\n",
    "    res = []\n",
    "    for i in args:\n",
    "        if isinstance(i, list):\n",
    "            p = i\n",
    "        else:\n",
    "            p.append(i)\n",
    "    q = [1-i for i in p]\n",
    "    for i, j in enumerate(p):\n",
    "        z = j\n",
    "        for k, l in enumerate (q):\n",
    "            if i != k:\n",
    "                z *= l\n",
    "        res.append(z)\n",
    "    return sum(res)"
   ]
  },
  {
   "source": [
    "## №50\n",
    "$P(A_1) = 0.9$  \n",
    "$P(A_2) = 0.95$  \n",
    "$P(B) = P(A_1 \\bar{A_2}) + P(\\bar{A_1}A_2)$"
   ],
   "cell_type": "markdown",
   "metadata": {}
  },
  {
   "cell_type": "code",
   "execution_count": 36,
   "metadata": {},
   "outputs": [
    {
     "output_type": "execute_result",
     "data": {
      "text/plain": [
       "0.14"
      ]
     },
     "metadata": {},
     "execution_count": 36
    }
   ],
   "source": [
    "P = one_of_several(0.9, 0.95)\n",
    "P"
   ]
  },
  {
   "source": [
    "## №51\n",
    "$P(A_1) = 0.7$  \n",
    "$P(A_2) = 0.8$  \n",
    "$P(B) = P(A_1 \\bar{A_2}) + P(\\bar{A_1}A_2)$"
   ],
   "cell_type": "markdown",
   "metadata": {}
  },
  {
   "cell_type": "code",
   "execution_count": 37,
   "metadata": {},
   "outputs": [
    {
     "output_type": "execute_result",
     "data": {
      "text/plain": [
       "0.38"
      ]
     },
     "metadata": {},
     "execution_count": 37
    }
   ],
   "source": [
    "P = one_of_several(0.7, 0.8)\n",
    "P"
   ]
  },
  {
   "source": [
    "## №52"
   ],
   "cell_type": "markdown",
   "metadata": {}
  },
  {
   "source": [
    "$P(A_1) = 0.9$  \n",
    "$P(A_2) = 0.9$  \n",
    "$P(B) = P(A_1 \\bar{A_2}) + P(\\bar{A_1}A_2)$"
   ],
   "cell_type": "markdown",
   "metadata": {}
  },
  {
   "cell_type": "code",
   "execution_count": 38,
   "metadata": {},
   "outputs": [
    {
     "output_type": "execute_result",
     "data": {
      "text/plain": [
       "0.17999999999999997"
      ]
     },
     "metadata": {},
     "execution_count": 38
    }
   ],
   "source": [
    "P = one_of_several(0.9, 0.9)\n",
    "P"
   ]
  },
  {
   "source": [
    "## №54"
   ],
   "cell_type": "markdown",
   "metadata": {}
  },
  {
   "source": [
    "$P(A_1) = 0.4$  \n",
    "$P(A_2) = 0.4$\n",
    "$P(A_3) = 0.4$  \n",
    "$P(B) = P(A_1 \\bar{A_2} \\bar{A_3}) + P(A_2\\bar{A_1}\\bar{A_3}) + P(A_3\\bar{A_1}\\bar{A_2})$"
   ],
   "cell_type": "markdown",
   "metadata": {}
  },
  {
   "cell_type": "code",
   "execution_count": 39,
   "metadata": {},
   "outputs": [
    {
     "output_type": "execute_result",
     "data": {
      "text/plain": [
       "0.43199999999999994"
      ]
     },
     "metadata": {},
     "execution_count": 39
    }
   ],
   "source": [
    "P = one_of_several([0.4, 0.4, 0.4])\n",
    "P"
   ]
  },
  {
   "source": [
    "## №55"
   ],
   "cell_type": "markdown",
   "metadata": {}
  },
  {
   "source": [
    "$P(A_1) = 0.8$  \n",
    "$P(A_2) = 0.8$  \n",
    "$P(A_3) = 0.8$  \n",
    "$P(B) = P(A_1A_2\\bar{A_3}) + P(A_1A_3\\bar{A_2}) + P(A_2A_3\\bar{A_1})$"
   ],
   "cell_type": "markdown",
   "metadata": {}
  },
  {
   "source": [
    "P = 0.384\n",
    "P = 3 * 0.8 ** 2 * 0.2\n",
    "P"
   ],
   "cell_type": "code",
   "metadata": {},
   "execution_count": 40,
   "outputs": [
    {
     "output_type": "execute_result",
     "data": {
      "text/plain": [
       "0.3840000000000001"
      ]
     },
     "metadata": {},
     "execution_count": 40
    }
   ]
  },
  {
   "source": [
    "## №56\n",
    "$P(A_1) = 0.6$  \n",
    "$P(A_2) = 0.7$  \n",
    "$P(A_3) = 0.8$  \n",
    "а) $P(B) = P(A_1 \\bar{A_2} \\bar{A_3}) + P(A_2\\bar{A_1}\\bar{A_3}) + P(A_3\\bar{A_1}\\bar{A_2})$   \n",
    "б) $P(B) = P(A_1A_2\\bar{A_3}) + P(A_1A_3\\bar{A_2}) + P(A_2A_3\\bar{A_1})$  \n",
    "в) $P(B) = P(A_1A_2A_3)$"
   ],
   "cell_type": "markdown",
   "metadata": {}
  },
  {
   "cell_type": "code",
   "execution_count": 41,
   "metadata": {},
   "outputs": [
    {
     "output_type": "execute_result",
     "data": {
      "text/plain": [
       "0.188"
      ]
     },
     "metadata": {},
     "execution_count": 41
    }
   ],
   "source": [
    "one_of_several(0.6, 0.7, 0.8)"
   ]
  },
  {
   "cell_type": "code",
   "execution_count": 42,
   "metadata": {},
   "outputs": [
    {
     "output_type": "execute_result",
     "data": {
      "text/plain": [
       "0.45199999999999996"
      ]
     },
     "metadata": {},
     "execution_count": 42
    }
   ],
   "source": [
    "0.6 * 0.7 * 0.2 + 0.6 * 0.8 * 0.3 + 0.7 * 0.8 * 0.4"
   ]
  },
  {
   "cell_type": "code",
   "execution_count": 43,
   "metadata": {},
   "outputs": [
    {
     "output_type": "execute_result",
     "data": {
      "text/plain": [
       "0.336"
      ]
     },
     "metadata": {},
     "execution_count": 43
    }
   ],
   "source": [
    "0.6 * 0.7 * 0.8"
   ]
  },
  {
   "source": [
    "## №57"
   ],
   "cell_type": "markdown",
   "metadata": {}
  },
  {
   "source": [
    "$P(A_1) = 0.6$  \n",
    "$P(A_2) = 0.7$  \n",
    "$P(A_3) = 0.8$  \n",
    "$P(A_4) = 0.9$  \n",
    "А) $P(B) = 1 - P(A_1A_2A_3A_4)$  \n",
    "Б) $P(B) = 1 - P(A_1 \\bar{A_2} \\bar{A_3} \\bar{A_4}) - P(A_2 \\bar{A_1} \\bar{A_3} \\bar{A_4}) - P(A_3 \\bar{A_1} \\bar{A_2} \\bar{A_4}) - P(A_4 \\bar{A_1} \\bar{A_2} \\bar{A_3})$"
   ],
   "cell_type": "markdown",
   "metadata": {}
  },
  {
   "cell_type": "code",
   "execution_count": 44,
   "metadata": {},
   "outputs": [
    {
     "output_type": "execute_result",
     "data": {
      "text/plain": [
       "0.6976"
      ]
     },
     "metadata": {},
     "execution_count": 44
    }
   ],
   "source": [
    " 1 - 0.6 * 0.7 * 0.8 * 0.9"
   ]
  },
  {
   "source": [
    "1 - one_of_several(0.6, 0.7, 0.8, 0.9)\n",
    "# В задачнике вероятнее всего опечатка"
   ],
   "cell_type": "code",
   "metadata": {},
   "execution_count": 45,
   "outputs": [
    {
     "output_type": "execute_result",
     "data": {
      "text/plain": [
       "0.9596"
      ]
     },
     "metadata": {},
     "execution_count": 45
    }
   ]
  },
  {
   "source": [
    "## № 58"
   ],
   "cell_type": "markdown",
   "metadata": {}
  },
  {
   "source": [
    "$\\frac{1}{6^3}$\n",
    "$\\frac{6}{6^3}$"
   ],
   "cell_type": "markdown",
   "metadata": {}
  },
  {
   "source": [
    "## №59"
   ],
   "cell_type": "markdown",
   "metadata": {}
  },
  {
   "source": [
    "А) Можно перфразировать как - 1 выпало только на двух гранях  \n",
    "$P(B) = P(A_1A_2\\bar(A_3)) + P(A_1A_3\\bar{A_2} + P(A_2A_3\\bar{A_1}$  \n",
    "Или $P(B) = C^2_3P(A_1A_2\\bar{A_3})$  \n",
    "$P = \\frac{5}{72}$  \n",
    "Б) Сразу используем комбинаторику, иначе формула будет километровой  \n",
    "$P = C^2_3 P(A) * P(B) = 3 * \\frac{6}{36} * \\frac{5}{6} = \\frac{5}{12}$  \n",
    "В) $P = 1 - \\frac{6}{\\bar{A^3_6}} = 1 - \\frac{1}{36} = \\frac{35}{36}$"
   ],
   "cell_type": "markdown",
   "metadata": {}
  },
  {
   "source": [
    "## №60"
   ],
   "cell_type": "markdown",
   "metadata": {}
  },
  {
   "cell_type": "code",
   "execution_count": 46,
   "metadata": {},
   "outputs": [
    {
     "output_type": "execute_result",
     "data": {
      "text/plain": [
       "0.2790816472336535"
      ]
     },
     "metadata": {},
     "execution_count": 46
    }
   ],
   "source": [
    "log(0.3) / log(5 / 6)\n",
    "(5 /6 ) ** 7"
   ]
  },
  {
   "source": [
    "## №61"
   ],
   "cell_type": "markdown",
   "metadata": {}
  },
  {
   "cell_type": "code",
   "execution_count": 47,
   "metadata": {},
   "outputs": [
    {
     "output_type": "execute_result",
     "data": {
      "text/plain": [
       "4.106283719505391"
      ]
     },
     "metadata": {},
     "execution_count": 47
    }
   ],
   "source": [
    "log(0.4) / log(0.8)"
   ]
  },
  {
   "source": [
    "## №62\n",
    "\n",
    "Тут играют роль перестановки  \n",
    "В задачах, где мы использовали размещения и сочетания обычно нужно было выбрать n из m, где $n \\neq m$, например, из 4 по 2, но перестановки вступают в игру, когда надо выбрать на позицию 1 из m или же на n = m  \n",
    "$s = S_{ABC} = \\frac{a^2\\sqrt{3}}{4}$  \n",
    "$a = R\\sqrt{3}$  \n",
    "$S = S_{OR} = \\pi R^2$  \n",
    "A = <Точка попадет в треугольник>, $P(A) = \\frac{s}{S} = \\frac{3\\sqrt{3}}{4\\pi}$\n",
    "\n",
    "а) $P(B) = P(A)^4 = \\big(\\frac{3\\sqrt{3}}{4\\pi}\\big)^4$  \n",
    "б) $P(B) = P_{4}P(А)(1-P(A))^3 = 4!\\frac{3\\sqrt{3}}{4\\pi} \\big(1 - \\frac{3\\sqrt{3}}{4\\pi}\\big)^3$"
   ],
   "cell_type": "markdown",
   "metadata": {}
  },
  {
   "source": [
    "## №63"
   ],
   "cell_type": "markdown",
   "metadata": {}
  },
  {
   "source": [
    "$P(A) = \\frac{1}{3}$  \n",
    "$P(B) = P_3 P(A)^3$  \n",
    "$P(B) = \\frac{3!}{27}$"
   ],
   "cell_type": "markdown",
   "metadata": {}
  },
  {
   "source": [
    "## №65"
   ],
   "cell_type": "markdown",
   "metadata": {}
  },
  {
   "source": [
    "$P(A) = \\frac{5}{100}$  \n",
    "$P_A(B) = \\frac{4}{99}$  \n",
    "$P(AB)= P(A) * P_A(B) = \\frac{2}{990}$  \n",
    "\n",
    "Задачи можно решать через $C_m^n$"
   ],
   "cell_type": "markdown",
   "metadata": {}
  },
  {
   "source": [
    "## №67\n"
   ],
   "cell_type": "markdown",
   "metadata": {}
  },
  {
   "source": [
    "$P(ABCD) = P(A)P_A(B)P_{AB}(C)P_{ABC}(D)$  \n",
    "$P(ABCD) =  \\frac{6}{10} * \\frac{5}{9} * \\frac{4}{8} * \\frac{3}{7}$"
   ],
   "cell_type": "markdown",
   "metadata": {}
  },
  {
   "cell_type": "code",
   "execution_count": null,
   "metadata": {},
   "outputs": [],
   "source": []
  }
 ]
}